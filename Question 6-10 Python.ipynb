{
 "cells": [
  {
   "cell_type": "code",
   "execution_count": null,
   "id": "96bf4e86",
   "metadata": {},
   "outputs": [],
   "source": [
    "Question 6 Python\n",
    "You can turn a word into pig-Latin using the following two rules (simplified):\n",
    "• If the word starts with a consonant, move that letter to the end and append 'ay'. For example, 'happy' becomes 'appyhay' and 'pencil' becomes 'encilpay'.\n",
    "• If the word starts with a vowel, simply append 'way' to the end of the word. For example, 'enter' becomes 'enterway' and 'other' becomes 'otherway' . For our purposes, there are 5 vowels: a, e, i, o, u (so we count y as a consonant).\n",
    "Write a function pig() that takes a word (i.e., a string) as input and returns its pig- Latin form. Your function should still work if the input word contains upper case characters. Your output should always be lower case however.\n",
    ">>> pig('happy') 'appyhay'\n",
    ">>> pig('Enter') 'enterway'"
   ]
  },
  {
   "cell_type": "code",
   "execution_count": 3,
   "id": "f5f54b5c",
   "metadata": {},
   "outputs": [
    {
     "name": "stdout",
     "output_type": "stream",
     "text": [
      "appyhay\n",
      "enterway\n"
     ]
    }
   ],
   "source": [
    "def pig(str):\n",
    "    str=str.lower()\n",
    "    \n",
    "    vowels = ['a','e','i','o','u']\n",
    "    \n",
    "    if str[0] in vowels:\n",
    "        return str + \"way\"\n",
    "    else:\n",
    "        return str[1:]+str[0]+\"ay\"\n",
    "    \n",
    "print(pig(\"happy\"))\n",
    "print(pig(\"Enter\"))"
   ]
  },
  {
   "cell_type": "code",
   "execution_count": null,
   "id": "433a6603",
   "metadata": {},
   "outputs": [],
   "source": [
    "Question 7 Python\n",
    "File bloodtype1.txt records blood-types of patients (A, B, AB, O or OO) at a clinic. Write a function bldcount() that reads the file with name name and reports (i.e., prints) how many patients there are in each bloodtype.\n",
    ">>> bldcount('bloodtype.txt')\n",
    "There are 10 patients of blood type A.\n",
    "There is one patient of blood type B. \n",
    "There are 10 patients of blood type AB. \n",
    "There are 12 patients of blood type O. \n",
    "There are no patients of blood type OO."
   ]
  },
  {
   "cell_type": "code",
   "execution_count": 42,
   "id": "bf34d558",
   "metadata": {},
   "outputs": [
    {
     "name": "stdout",
     "output_type": "stream",
     "text": [
      ">>> bldcount('bloodtype1.txt'):\n",
      "There are 15 patients of blood type A.\n",
      "There is 1 patient of blood type B.\n",
      "There are 13 patients of blood type AB.\n",
      "There are 15 patients of blood type O.\n",
      "There are 0 patients of blood type OO.\n"
     ]
    }
   ],
   "source": [
    "def bldcount(infile):\n",
    "    with open(infile, 'r') as file:\n",
    "        content = file.read()\n",
    "        blood_types = content.split()\n",
    "\n",
    "        numA = blood_types.count('A')\n",
    "        numB = blood_types.count('B')\n",
    "        numAB = blood_types.count('AB')\n",
    "        numO = blood_types.count('O')\n",
    "        numOO = blood_types.count('OO')\n",
    "\n",
    "        print(f\">>> bldcount('{file.name}'):\")\n",
    "        \n",
    "        if numA == 1:\n",
    "            print(f\"There is 1 patient of blood type A.\")\n",
    "        else:\n",
    "            print(f\"There are {numA} patients of blood type A.\")\n",
    "\n",
    "        if numB == 1:\n",
    "            print(f\"There is 1 patient of blood type B.\")\n",
    "        else:\n",
    "            print(f\"There are {numB} patients of blood type B.\")\n",
    "\n",
    "        if numAB == 1:\n",
    "            print(f\"There is 1 patient of blood type AB.\")\n",
    "        else:\n",
    "            print(f\"There are {numAB} patients of blood type AB.\")\n",
    "\n",
    "        if numO == 1:\n",
    "            print(f\"There is 1 patient of blood type O.\")\n",
    "        else:\n",
    "            print(f\"There are {numO} patients of blood type O.\")\n",
    "\n",
    "        if numOO == 1:\n",
    "            print(f\"There is 1 patient of blood type OO.\")\n",
    "        else:\n",
    "            print(f\"There are {numOO} patients of blood type OO.\")\n",
    "\n",
    "bldcount(\"bloodtype1.txt\")\n"
   ]
  },
  {
   "cell_type": "code",
   "execution_count": null,
   "id": "2b415858",
   "metadata": {},
   "outputs": [],
   "source": [
    "Question 8 Python\n",
    "Write a function curconv() that takes as input:\n",
    "1. a currency represented using a string (e.g., 'JPY' for the Japanese Yen or 'EUR' for the Euro)\n",
    "2. an amount\n",
    "and then converts and returns the amount in US dollars.\n",
    ">>> curconv('EUR', 100)\n",
    "122.96544\n",
    ">>> curconv('JPY', 100)\n",
    "1.241401\n",
    "The currency rates you will need are stored in file currencies.txt:\n",
    "AUD\n",
    "1.0345157\n",
    "Australian Dollar\n",
    "CHF\n",
    "1.0237414\n",
    "Swiss Franc\n",
    "CNY\n",
    "0.1550176\n",
    "Chinese Yuan\n",
    "DKK\n",
    "0.1651442\n",
    "Danish Krone\n",
    "EUR\n",
    "1.2296544\n",
    "Euro\n",
    "GBP\n",
    "1.5550989\n",
    "British Pound\n",
    "HKD\n",
    "0.1270207\n",
    "Hong Kong Dollar\n",
    "INR\n",
    "0.0177643\n",
    "Indian Rupee\n",
    "JPY\n",
    "0.01241401\n",
    "Japanese Yen\n",
    "MXN\n",
    "0.0751848\n",
    "Mexican Peso\n",
    "MYR\n",
    "0.3145411\n",
    "Malaysian Ringgit\n",
    "NOK\n",
    "0.1677063\n",
    "Norwegian Krone\n",
    "NZD\n",
    "0.8003591\n",
    "New Zealand Dollar\n",
    "PHP\n",
    "0.0233234\n",
    "Philippine Peso\n",
    "SEK\n",
    "0.148269\n",
    "Swedish Krona\n",
    "SGD\n",
    "0.788871\n",
    "Singapore Dollar\n",
    "THB\n",
    "0.0313789\n",
    "Thai Baht"
   ]
  },
  {
   "cell_type": "code",
   "execution_count": 1,
   "id": "e8b183f7",
   "metadata": {},
   "outputs": [
    {
     "name": "stdout",
     "output_type": "stream",
     "text": [
      "Enter currency (or type \"quit\" to exit): EUR\n",
      "Enter amount: 100\n",
      ">>> curconv('EUR', 100)\n",
      "122.96544\n",
      "Enter currency (or type \"quit\" to exit): JPY\n",
      "Enter amount: 100\n",
      ">>> curconv('JPY', 100)\n",
      "1.241401\n",
      "Enter currency (or type \"quit\" to exit): quit\n"
     ]
    }
   ],
   "source": [
    "dictionary = {}\n",
    "\n",
    "with open('currencies.txt', 'r') as file:\n",
    "    for line in file:\n",
    "        key, value = line.split()[:2]\n",
    "        dictionary[key] = float(value)\n",
    "\n",
    "while True:\n",
    "    currency = input('Enter currency (or type \"quit\" to exit): ')\n",
    "    if currency.lower() == 'quit':\n",
    "        break\n",
    "\n",
    "    amount = input('Enter amount: ')\n",
    "    print(\">>> curconv('{}', {})\".format(currency, amount))\n",
    "    \n",
    "    if currency in dictionary:\n",
    "        # Perform the conversion and print the result\n",
    "        result = float(amount) * dictionary[currency]\n",
    "        print(result)\n",
    "    else:\n",
    "        print(\"Invalid currency code\")"
   ]
  },
  {
   "cell_type": "code",
   "execution_count": null,
   "id": "4ec9dac1",
   "metadata": {},
   "outputs": [],
   "source": [
    "Question 9 Python\n",
    "Each of the following will cause an exception (an error). Identify what type of exception each will cause.\n",
    "1.Trying to add incompatible variables, as in adding 6 + ‘a’\n",
    "2.Referring to the 12th item of a list that has only 10 items\n",
    "3.Using a value that is out of range for a function’s input, such as calling math.sqrt(-1.0)\n",
    "4.Using an undeclared variable, such as print(x) when x has not been defined\n",
    "5.Trying to open a file that does not exist, such as mistyping the file name or looking in the wrong directory."
   ]
  },
  {
   "cell_type": "code",
   "execution_count": 17,
   "id": "179a58ca",
   "metadata": {},
   "outputs": [
    {
     "name": "stdout",
     "output_type": "stream",
     "text": [
      "Exception 1: TypeError - unsupported operand type(s) for +: 'int' and 'str'\n",
      "Exception 2: IndexError - list index out of range\n",
      "Exception 3: ValueError - math domain error\n",
      "Exception 4: NameError - name 'x' is not defined\n",
      "Exception 5: FileNotFoundError - [Errno 2] No such file or directory: '123file.txt'\n"
     ]
    }
   ],
   "source": [
    "#1\n",
    "try:\n",
    "    result = 6 + 'a'\n",
    "except Exception as x:\n",
    "    print(f\"Exception 1: {type(x).__name__} - {x}\")\n",
    "#2\n",
    "try:\n",
    "    my_list = [1, 2, 3, 4, 5, 6, 7, 8, 9, 10]\n",
    "    item = my_list[11]\n",
    "except Exception as x:\n",
    "    print(f\"Exception 2: {type(x).__name__} - {x}\")\n",
    "#3\n",
    "try:\n",
    "    result = math.sqrt(-1.0)\n",
    "except Exception as x:\n",
    "    print(f\"Exception 3: {type(x).__name__} - {x}\")\n",
    "\n",
    "# 4\n",
    "try:\n",
    "    print(x)\n",
    "except Exception as x:\n",
    "    print(f\"Exception 4: {type(x).__name__} - {x}\")\n",
    "\n",
    "# 5\n",
    "try:\n",
    "    with open('123file.txt', 'r') as file:\n",
    "        content = file.read()\n",
    "except Exception as x:\n",
    "    print(f\"Exception 5: {type(x).__name__} - {x}\")"
   ]
  },
  {
   "cell_type": "code",
   "execution_count": null,
   "id": "d10b9570",
   "metadata": {},
   "outputs": [],
   "source": [
    "Question 10 Python\n",
    "Encryption is the process of hiding the meaning of a text by substituting letters in the message with other letters, according to some system. If the process is successful, no one but the intended recipient can understand the encrypted message. Cryptanalysis refers to attempts to undo the encryption, even if some details of the encryption are unknown (for example, if an encrypted message has been intercepted). The first step of cryptanalysis is often to build up a table of letter frequencies in the encrypted text. Assume that the string letters is already defined as 'abcdefghijklmnopqrstuvwxyz'. Write a function called frequencies() that takes a string as its only parameter, and returns a list of integers, showing the number of times each character appears in the text. Your function may ignore any characters that are not in letters."
   ]
  },
  {
   "cell_type": "code",
   "execution_count": 22,
   "id": "b39b9c16",
   "metadata": {},
   "outputs": [
    {
     "name": "stdout",
     "output_type": "stream",
     "text": [
      ">>> frequencies('The quick red fox got bored and went home.')\n",
      "[1, 1, 1, 3, 5, 1, 1, 2, 1, 0, 1, 0, 1, 2, 4, 0, 1, 2, 0, 3, 1, 0, 1, 1, 0, 0]\n",
      ">>> frequencies('apple')\n",
      "[1, 0, 0, 0, 1, 0, 0, 0, 0, 0, 0, 1, 0, 0, 0, 2, 0, 0, 0, 0, 0, 0, 0, 0, 0, 0]\n"
     ]
    }
   ],
   "source": [
    "def frequencies(text):\n",
    "    letters = 'abcdefghijklmnopqrstuvwxyz'\n",
    "    letter_frequencies = [0] * 26\n",
    "    text = text.lower()\n",
    "\n",
    "    \n",
    "    for char in text:        \n",
    "        if char in letters:            \n",
    "            index = letters.index(char)\n",
    "            letter_frequencies[index] += 1\n",
    "\n",
    "    return letter_frequencies\n",
    "\n",
    "text1 = 'The quick red fox got bored and went home.'\n",
    "result1 = frequencies(text1)\n",
    "print(\">>> frequencies('{}')\".format(text1))\n",
    "print(result1)\n",
    "\n",
    "text2 = 'apple'\n",
    "result2 = frequencies(text2)\n",
    "print(\">>> frequencies('{}')\".format(text2))\n",
    "print(result2)"
   ]
  }
 ],
 "metadata": {
  "kernelspec": {
   "display_name": "Python 3 (ipykernel)",
   "language": "python",
   "name": "python3"
  },
  "language_info": {
   "codemirror_mode": {
    "name": "ipython",
    "version": 3
   },
   "file_extension": ".py",
   "mimetype": "text/x-python",
   "name": "python",
   "nbconvert_exporter": "python",
   "pygments_lexer": "ipython3",
   "version": "3.11.4"
  }
 },
 "nbformat": 4,
 "nbformat_minor": 5
}
