{
 "cells": [
  {
   "cell_type": "code",
   "execution_count": null,
   "id": "c50cebd4",
   "metadata": {},
   "outputs": [],
   "source": [
    "Problem Set 1\n",
    "Student:Shih Han Lee, Student ID:200572405"
   ]
  },
  {
   "cell_type": "code",
   "execution_count": null,
   "id": "acae3f90",
   "metadata": {},
   "outputs": [],
   "source": [
    "Question 1 C#\n",
    "What data type is each of the following?\n",
    "5\n",
    "5.0\n",
    "5 > 1\n",
    "'5'\n",
    "5 * 2\n",
    "'5' * 2\n",
    "'5' + '2'\n",
    "5 / 2\n",
    "5 % 2\n",
    "{5, 2, 1}\n",
    "5 == 3\n",
    "Pi (the number)"
   ]
  },
  {
   "cell_type": "code",
   "execution_count": 3,
   "id": "8dd43d9c",
   "metadata": {},
   "outputs": [
    {
     "name": "stdout",
     "output_type": "stream",
     "text": [
      "5       = Interger\n",
      "5.0     = Floating\n",
      "5>1     = Boolean\n",
      "'5'     = Character\n",
      "5*2     = Integer\n",
      "'5'*2   = Integer\n",
      "'5'+'2' = Integer\n",
      "5/2     = Floating\n",
      "5%2     = Integer\n",
      "{5,2,1} = Array\n",
      "5==3    = Boolean\n",
      "Pi      = Floating\n"
     ]
    }
   ],
   "source": [
    "Console.WriteLine(\"5       = Interger\");\n",
    "Console.WriteLine(\"5.0     = Floating\");\n",
    "Console.WriteLine(\"5>1     = Boolean\");\n",
    "Console.WriteLine(\"'5'     = Character\");\n",
    "Console.WriteLine(\"5*2     = Integer\");\n",
    "Console.WriteLine(\"'5'*2   = Integer\");\n",
    "Console.WriteLine(\"'5'+'2' = Integer\");\n",
    "Console.WriteLine(\"5/2     = Floating\");\n",
    "Console.WriteLine(\"5%2     = Integer\");\n",
    "Console.WriteLine(\"{5,2,1} = Array\");\n",
    "Console.WriteLine(\"5==3    = Boolean\");\n",
    "Console.WriteLine(\"Pi      = Floating\");"
   ]
  },
  {
   "cell_type": "code",
   "execution_count": null,
   "id": "ff22e79d",
   "metadata": {},
   "outputs": [],
   "source": [
    "Question 2 C#\n",
    "Write (and evaluate) C# expressions that answer these questions:\n",
    "a. How many letters are there in 'Supercalifragilisticexpialidocious'?\n",
    "b. Does 'Supercalifragilisticexpialidocious' contain 'ice' as a substring?\n",
    "c. Which of the following words is the longest: Supercalifragilisticexpialidocious, Honorificabilitudinitatibus, or Bababadalgharaghtakamminarronnkonn?\n",
    "d. Which composer comes first in the dictionary: 'Berlioz', 'Borodin', 'Brian', 'Bartok', 'Bellini', 'Buxtehude', 'Bernstein'. Which one comes last?"
   ]
  },
  {
   "cell_type": "code",
   "execution_count": 6,
   "id": "389716be",
   "metadata": {},
   "outputs": [
    {
     "name": "stdout",
     "output_type": "stream",
     "text": [
      "There are 34 letters in 'Supercalifragilisticexpialidocious'. \r\n"
     ]
    }
   ],
   "source": [
    "//a\n",
    "string name = \"Supercalifragilisticexpialidocious\";\n",
    "int count = name.Length;\n",
    "Console.WriteLine(\"There are {0} letters in 'Supercalifragilisticexpialidocious'. \", count);"
   ]
  },
  {
   "cell_type": "code",
   "execution_count": 10,
   "id": "d364a98a",
   "metadata": {},
   "outputs": [
    {
     "data": {
      "text/plain": [
       "True"
      ]
     },
     "execution_count": 10,
     "metadata": {},
     "output_type": "execute_result"
    }
   ],
   "source": [
    "//b\n",
    "string name = \"Supercalifragilisticexpialidocious\";\n",
    "string check = \"ice\";\n",
    "bool result = name.Contains(check);\n",
    "\n",
    "result"
   ]
  },
  {
   "cell_type": "code",
   "execution_count": 42,
   "id": "0e0befa6",
   "metadata": {},
   "outputs": [
    {
     "name": "stdout",
     "output_type": "stream",
     "text": [
      "Length of 'a': 34 words\n",
      "Length of 'b': 27 words\n",
      "Length of 'c': 34 words\n",
      "Supercalifragilisticexpialidocious, Bababadalgharaghtakamminarronnkonn are the longest word(s).\n"
     ]
    }
   ],
   "source": [
    "//c\n",
    "string a = \"Supercalifragilisticexpialidocious\";\n",
    "string b = \"Honorificabilitudinitatibus\";\n",
    "string c = \"Bababadalgharaghtakamminarronnkonn\";\n",
    "\n",
    "int count1 = a.Length;\n",
    "int count2 = b.Length;\n",
    "int count3 = c.Length;\n",
    "\n",
    "Console.WriteLine($\"Length of 'a': {count1} words\");\n",
    "Console.WriteLine($\"Length of 'b': {count2} words\");\n",
    "Console.WriteLine($\"Length of 'c': {count3} words\");\n",
    "\n",
    "\n",
    "if (count1 == count2 && count1 == count3)\n",
    "{\n",
    "Console.WriteLine(\"All three words have the same length.\");\n",
    "}\n",
    "else\n",
    "{\n",
    "List<string> longestWords = GetLongestWords(a, b, c);\n",
    "Console.WriteLine($\"{string.Join(\", \", longestWords)} {(longestWords.Count > 1 ? \"are\" : \"is\")} the longest word(s).\");\n",
    "}\n",
    "\n",
    "public static List<string> GetLongestWords(params string[] words)\n",
    "{\n",
    "int maxLength = words.Max(w => w.Length);\n",
    "return words.Where(w => w.Length == maxLength).ToList();\n",
    "}\n",
    "\n"
   ]
  },
  {
   "cell_type": "code",
   "execution_count": 48,
   "id": "2dcfccfe",
   "metadata": {},
   "outputs": [
    {
     "name": "stdout",
     "output_type": "stream",
     "text": [
      "First Composer: Bartok\n",
      "Last Composer: Buxtehude\n"
     ]
    }
   ],
   "source": [
    "//d\n",
    "string[] composers = { \"Berlioz\", \"Borodin\", \"Brian\", \"Bartok\", \"Bellini\", \"Buxtehude\", \"Bernstein\" };\n",
    "\n",
    "Array.Sort(composers);\n",
    "\n",
    "string firstCom = composers[0];\n",
    "string lastCom = composers[composers.Length - 1];\n",
    "\n",
    "Console.WriteLine($\"First Composer: {firstCom}\");\n",
    "Console.WriteLine($\"Last Composer: {lastCom}\");"
   ]
  },
  {
   "cell_type": "code",
   "execution_count": null,
   "id": "454bab26",
   "metadata": {},
   "outputs": [],
   "source": [
    "Question 3 C#\n",
    "Implement function triangleArea(a,b,c) that takes as input the lengths of the 3 sides of a triangle and returns the area of the triangle. By Heron's formula, the area of a triangle with side lengths a, b, and c is s(s − a)(s − b)(s − c), where\n",
    "s = (a + b + c)/2.\n",
    ">>> triangleArea(2,2,2) 1.7320508075688772"
   ]
  },
  {
   "cell_type": "code",
   "execution_count": 54,
   "id": "4d68153a",
   "metadata": {},
   "outputs": [
    {
     "name": "stdout",
     "output_type": "stream",
     "text": [
      "The area of the triangle with sides 2, 2, and 2 is: 1.7320508075688772\r\n"
     ]
    }
   ],
   "source": [
    "double a = 2.0;\n",
    "double b = 2.0;\n",
    "double c = 2.0;\n",
    "double area = TriangleArea(a, b, c);\n",
    "\n",
    "Console.WriteLine($\"The area of the triangle with sides {a}, {b}, and {c} is: {area}\");\n",
    "\n",
    "static double TriangleArea(double a, double b, double c)\n",
    "{\n",
    "return Math.Sqrt((a + b + c) / 2 * ((a + b + c) / 2 - a) * ((a + b + c) / 2 - b) * ((a + b + c) / 2 - c));\n",
    "}"
   ]
  },
  {
   "cell_type": "code",
   "execution_count": null,
   "id": "c088b6ec",
   "metadata": {},
   "outputs": [],
   "source": [
    "Question 4 C#\n",
    "Write a program in C# Sharp to separate odd and even integers in separate arrays. Go to the editor\n",
    "Test Data :\n",
    "Input the number of elements to be stored in the array :5 Input 5 elements in the array :\n",
    "element - 0 : 25\n",
    "element - 1 : 47\n",
    "element - 2 : 42\n",
    "element - 3 : 56\n",
    "element - 4 : 32 Expected Output:\n",
    "The Even elements are: 42 56 32\n",
    "The Odd elements are : 25 47"
   ]
  },
  {
   "cell_type": "code",
   "execution_count": 58,
   "id": "068cc6d4",
   "metadata": {},
   "outputs": [
    {
     "name": "stdout",
     "output_type": "stream",
     "text": [
      "THE EVEN ELEMENTS ARE\n",
      "42\n",
      "56\n",
      "32\n",
      "THE ODD ELEMENTS ARE\n",
      "25\n",
      "47\n"
     ]
    }
   ],
   "source": [
    "int[] a = { 25, 47, 42, 56, 32 };\n",
    "int[] even = new int[5];\n",
    "int[] odd = new int[5];\n",
    "\n",
    "for (int i = 0; i < a.Length; i++)\n",
    "{\n",
    "if (a[i] % 2 == 0)\n",
    "    even[i] = a[i];\n",
    "else\n",
    "    odd[i] = a[i];\n",
    "}\n",
    "\n",
    "Console.WriteLine(\"The Even elements are\");\n",
    "PrintArray(even);\n",
    "\n",
    "Console.WriteLine(\"The Odd elements are\");\n",
    "PrintArray(odd);\n",
    "    \n",
    "static void PrintArray(int[] arr)\n",
    "{\n",
    "foreach (int num in arr)\n",
    " {\n",
    "if (num != 0)\n",
    "Console.WriteLine(num);\n",
    " }\n",
    "}"
   ]
  },
  {
   "cell_type": "code",
   "execution_count": null,
   "id": "7b287b5c",
   "metadata": {},
   "outputs": [],
   "source": [
    "Question 5 C#\n",
    "a. Write a function inside(x,y,x1,y1,x2,y2) that returns True or False depending on whether the point (x,y) lies in the rectangle with lower left corner (x1,y1) and upper right corner (x2,y2).\n",
    ">>> inside(1,1,0,0,2,3)\n",
    "True\n",
    ">>> inside(-1,-1,0,0,2,3)\n",
    "False\n",
    "b. Use function inside() from part a. to write an expression that tests whether the point (1,1) lies in both of the following rectangles: one with lower left corner (0.3, 0.5) and upper right corner (1.1, 0.7) and the other with lower left corner (0.5, 0.2) and upper right corner (1.1, 2)."
   ]
  },
  {
   "cell_type": "code",
   "execution_count": 65,
   "id": "75a44395",
   "metadata": {},
   "outputs": [
    {
     "name": "stdout",
     "output_type": "stream",
     "text": [
      ">>> inside(1, 1, 0, 0, 2, 3)\n",
      "True\n",
      ">>> inside(-1, -1, 0, 0, 2, 3)\n",
      "False\n"
     ]
    }
   ],
   "source": [
    "//a\n",
    "\n",
    "int[] inside1 = { 1, 1, 0, 0, 2, 3 };\n",
    "InsideFunction(inside1);\n",
    "\n",
    "int[] inside2 = { -1, -1, 0, 0, 2, 3 };\n",
    "InsideFunction(inside2);\n",
    "\n",
    "\n",
    "static void InsideFunction(int[] inside)\n",
    "{\n",
    "int a = inside[0];\n",
    "int b = inside[1];\n",
    "int c = inside[2];\n",
    "int d = inside[3];\n",
    "int e = inside[4];\n",
    "int f = inside[5];\n",
    "\n",
    "bool result = IsInside(a, b, c, d, e, f);\n",
    "\n",
    "Console.WriteLine($\">>> inside({a}, {b}, {c}, {d}, {e}, {f})\");\n",
    "Console.WriteLine(result ? \"True\" : \"False\");\n",
    "}\n",
    "\n",
    "static bool IsInside(int x, int y, int x1, int y1, int x2, int y2)\n",
    "{\n",
    "return x1 < x && x < x2 && y1 < y && y < y2;\n",
    "}"
   ]
  },
  {
   "cell_type": "code",
   "execution_count": 67,
   "id": "5203e28b",
   "metadata": {},
   "outputs": [
    {
     "name": "stdout",
     "output_type": "stream",
     "text": [
      ">>> inside(1, 1, 0.3, 0.5, 1.1, 0.7)\n",
      "False\n",
      ">>> inside(1, 1, 0.5, 0.2, 1.1, 2)\n",
      "True\n"
     ]
    }
   ],
   "source": [
    "InsideFunction(1, 1, 0.3, 0.5, 1.1, 0.7);  \n",
    "InsideFunction(1, 1, 0.5, 0.2, 1.1, 2);\n",
    "\n",
    "static void InsideFunction(int x, int y, double x1, double y1, double x2, double y2)\n",
    "{\n",
    "bool result = IsInside(x, y, x1, y1, x2, y2);\n",
    "\n",
    "Console.WriteLine($\">>> inside({x}, {y}, {x1}, {y1}, {x2}, {y2})\");\n",
    "Console.WriteLine(result ? \"True\" : \"False\");\n",
    "}\n",
    "static bool IsInside(int x, int y, double x1, double y1, double x2, double y2)\n",
    "{\n",
    "return x1 < x && x < x2 && y1 < y && y < y2;\n",
    "}"
   ]
  },
  {
   "cell_type": "code",
   "execution_count": null,
   "id": "29b0492e",
   "metadata": {},
   "outputs": [],
   "source": []
  }
 ],
 "metadata": {
  "kernelspec": {
   "display_name": ".NET (C#)",
   "language": "C#",
   "name": ".net-csharp"
  },
  "language_info": {
   "file_extension": ".cs",
   "mimetype": "text/x-csharp",
   "name": "C#",
   "pygments_lexer": "csharp",
   "version": "8.0"
  }
 },
 "nbformat": 4,
 "nbformat_minor": 5
}
