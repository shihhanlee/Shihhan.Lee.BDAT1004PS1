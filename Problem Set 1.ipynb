{
 "cells": [
  {
   "cell_type": "code",
   "execution_count": null,
   "id": "ae83fe43",
   "metadata": {},
   "outputs": [],
   "source": [
    "Problem Set 1\n",
    "Student:Shih Han Lee, Student ID:200572405"
   ]
  },
  {
   "cell_type": "code",
   "execution_count": null,
   "id": "ea55cad2",
   "metadata": {},
   "outputs": [],
   "source": [
    "Question 1 C#\n",
    "What data type is each of the following?\n",
    "5\n",
    "5.0\n",
    "5 > 1\n",
    "'5'\n",
    "5 * 2\n",
    "'5' * 2\n",
    "'5' + '2'\n",
    "5 / 2\n",
    "5 % 2\n",
    "{5, 2, 1}\n",
    "5 == 3\n",
    "Pi (the number)"
   ]
  },
  {
   "cell_type": "code",
   "execution_count": null,
   "id": "eb35ef1c",
   "metadata": {},
   "outputs": [],
   "source": [
    "Console.WriteLine(\"5       = Interger\");\n",
    "Console.WriteLine(\"5.0     = Floating\");\n",
    "Console.WriteLine(\"5>1     = Boolean\");\n",
    "Console.WriteLine(\"'5'     = Character\");\n",
    "Console.WriteLine(\"5*2     = Integer\");\n",
    "Console.WriteLine(\"'5'*2   = Integer\");\n",
    "Console.WriteLine(\"'5'+'2' = Integer\");\n",
    "Console.WriteLine(\"5/2     = Floating\");\n",
    "Console.WriteLine(\"5%2     = Integer\");\n",
    "Console.WriteLine(\"{5,2,1} = Array\");\n",
    "Console.WriteLine(\"5==3    = Boolean\");\n",
    "Console.WriteLine(\"Pi      = Floating\");"
   ]
  },
  {
   "cell_type": "code",
   "execution_count": null,
   "id": "e21ddfe4",
   "metadata": {},
   "outputs": [],
   "source": [
    "5       = Interger\n",
    "5.0     = Floating\n",
    "5>1     = Boolean\n",
    "'5'     = Character\n",
    "5*2     = Integer\n",
    "'5'*2   = Integer\n",
    "'5'+'2' = Integer\n",
    "5/2     = Floating\n",
    "5%2     = Integer\n",
    "{5,2,1} = Array\n",
    "5==3    = Boolean\n",
    "Pi      = Floating"
   ]
  },
  {
   "cell_type": "code",
   "execution_count": null,
   "id": "f3d9ea7b",
   "metadata": {},
   "outputs": [],
   "source": [
    "Question 2 C#\n",
    "Write (and evaluate) C# expressions that answer these questions:\n",
    "a. How many letters are there in 'Supercalifragilisticexpialidocious'?\n",
    "b. Does 'Supercalifragilisticexpialidocious' contain 'ice' as a substring?\n",
    "c. Which of the following words is the longest: Supercalifragilisticexpialidocious, Honorificabilitudinitatibus, or Bababadalgharaghtakamminarronnkonn?\n",
    "d. Which composer comes first in the dictionary: 'Berlioz', 'Borodin', 'Brian', 'Bartok', 'Bellini', 'Buxtehude', 'Bernstein'. Which one comes last?"
   ]
  },
  {
   "cell_type": "code",
   "execution_count": null,
   "id": "44537bd6",
   "metadata": {},
   "outputs": [],
   "source": [
    "//a\n",
    "string name = \"Supercalifragilisticexpialidocious\";\n",
    "int count = name.Length;\n",
    "Console.WriteLine(\"There are {0} letters in 'Supercalifragilisticexpialidocious'. \", count);"
   ]
  },
  {
   "cell_type": "code",
   "execution_count": null,
   "id": "7973630e",
   "metadata": {},
   "outputs": [],
   "source": [
    "There are 34 letters in 'Supercalifragilisticexpialidocious'. "
   ]
  },
  {
   "cell_type": "code",
   "execution_count": null,
   "id": "09a9c2fc",
   "metadata": {},
   "outputs": [],
   "source": [
    "//b\n",
    "string name = \"Supercalifragilisticexpialidocious\";\n",
    "string check = \"ice\";\n",
    "bool result = name.Contains(check);\n",
    "\n",
    "result"
   ]
  },
  {
   "cell_type": "code",
   "execution_count": null,
   "id": "a08a547f",
   "metadata": {},
   "outputs": [],
   "source": [
    "True"
   ]
  },
  {
   "cell_type": "code",
   "execution_count": null,
   "id": "24a2528e",
   "metadata": {},
   "outputs": [],
   "source": [
    "//c\n",
    "string a = \"Supercalifragilisticexpialidocious\";\n",
    "string b = \"Honorificabilitudinitatibus\";\n",
    "string c = \"Bababadalgharaghtakamminarronnkonn\";\n",
    "\n",
    "int count1 = a.Length;\n",
    "int count2 = b.Length;\n",
    "int count3 = c.Length;\n",
    "\n",
    "Console.WriteLine($\"Length of 'a': {count1} words\");\n",
    "Console.WriteLine($\"Length of 'b': {count2} words\");\n",
    "Console.WriteLine($\"Length of 'c': {count3} words\");\n",
    "\n",
    "\n",
    "if (count1 == count2 && count1 == count3)\n",
    "{\n",
    "Console.WriteLine(\"All three words have the same length.\");\n",
    "}\n",
    "else\n",
    "{\n",
    "List<string> longestWords = GetLongestWords(a, b, c);\n",
    "Console.WriteLine($\"{string.Join(\", \", longestWords)} {(longestWords.Count > 1 ? \"are\" : \"is\")} the longest word(s).\");\n",
    "}\n",
    "\n",
    "public static List<string> GetLongestWords(params string[] words)\n",
    "{\n",
    "int maxLength = words.Max(w => w.Length);\n",
    "return words.Where(w => w.Length == maxLength).ToList();\n",
    "}\n",
    "\n"
   ]
  },
  {
   "cell_type": "code",
   "execution_count": null,
   "id": "db78f644",
   "metadata": {},
   "outputs": [],
   "source": [
    "Length of 'a': 34 words\n",
    "Length of 'b': 27 words\n",
    "Length of 'c': 34 words\n",
    "Supercalifragilisticexpialidocious, Bababadalgharaghtakamminarronnkonn are the longest word(s)."
   ]
  },
  {
   "cell_type": "code",
   "execution_count": null,
   "id": "80206854",
   "metadata": {},
   "outputs": [],
   "source": [
    "//d\n",
    "string[] composers = { \"Berlioz\", \"Borodin\", \"Brian\", \"Bartok\", \"Bellini\", \"Buxtehude\", \"Bernstein\" };\n",
    "\n",
    "Array.Sort(composers);\n",
    "\n",
    "string firstCom = composers[0];\n",
    "string lastCom = composers[composers.Length - 1];\n",
    "\n",
    "Console.WriteLine($\"First Composer: {firstCom}\");\n",
    "Console.WriteLine($\"Last Composer: {lastCom}\");"
   ]
  },
  {
   "cell_type": "code",
   "execution_count": null,
   "id": "0ebd5dcd",
   "metadata": {},
   "outputs": [],
   "source": [
    "First Composer: Bartok\n",
    "Last Composer: Buxtehude"
   ]
  },
  {
   "cell_type": "code",
   "execution_count": null,
   "id": "5cde9540",
   "metadata": {},
   "outputs": [],
   "source": [
    "Question 3 C#\n",
    "Implement function triangleArea(a,b,c) that takes as input the lengths of the 3 sides of a triangle and returns the area of the triangle. By Heron's formula, the area of a triangle with side lengths a, b, and c is s(s − a)(s − b)(s − c), where\n",
    "s = (a + b + c)/2.\n",
    ">>> triangleArea(2,2,2) 1.7320508075688772"
   ]
  },
  {
   "cell_type": "code",
   "execution_count": null,
   "id": "c699b6ae",
   "metadata": {},
   "outputs": [],
   "source": [
    "double a = 2.0;\n",
    "double b = 2.0;\n",
    "double c = 2.0;\n",
    "double area = TriangleArea(a, b, c);\n",
    "\n",
    "Console.WriteLine($\"The area of the triangle with sides {a}, {b}, and {c} is: {area}\");\n",
    "\n",
    "static double TriangleArea(double a, double b, double c)\n",
    "{\n",
    "return Math.Sqrt((a + b + c) / 2 * ((a + b + c) / 2 - a) * ((a + b + c) / 2 - b) * ((a + b + c) / 2 - c));\n",
    "}"
   ]
  },
  {
   "cell_type": "code",
   "execution_count": null,
   "id": "41785dca",
   "metadata": {},
   "outputs": [],
   "source": [
    "The area of the triangle with sides 2, 2, and 2 is: 1.7320508075688772"
   ]
  },
  {
   "cell_type": "code",
   "execution_count": null,
   "id": "27fb6b07",
   "metadata": {},
   "outputs": [],
   "source": [
    "Question 4 C#\n",
    "Write a program in C# Sharp to separate odd and even integers in separate arrays. Go to the editor\n",
    "Test Data :\n",
    "Input the number of elements to be stored in the array :5 Input 5 elements in the array :\n",
    "element - 0 : 25\n",
    "element - 1 : 47\n",
    "element - 2 : 42\n",
    "element - 3 : 56\n",
    "element - 4 : 32 Expected Output:\n",
    "The Even elements are: 42 56 32\n",
    "The Odd elements are : 25 47"
   ]
  },
  {
   "cell_type": "code",
   "execution_count": null,
   "id": "57552fe2",
   "metadata": {},
   "outputs": [],
   "source": [
    "int[] a = { 25, 47, 42, 56, 32 };\n",
    "int[] even = new int[5];\n",
    "int[] odd = new int[5];\n",
    "\n",
    "for (int i = 0; i < a.Length; i++)\n",
    "{\n",
    "if (a[i] % 2 == 0)\n",
    "    even[i] = a[i];\n",
    "else\n",
    "    odd[i] = a[i];\n",
    "}\n",
    "\n",
    "Console.WriteLine(\"The Even elements are\");\n",
    "PrintArray(even);\n",
    "\n",
    "Console.WriteLine(\"The Odd elements are\");\n",
    "PrintArray(odd);\n",
    "    \n",
    "static void PrintArray(int[] arr)\n",
    "{\n",
    "foreach (int num in arr)\n",
    " {\n",
    "if (num != 0)\n",
    "Console.WriteLine(num);\n",
    " }\n",
    "}"
   ]
  },
  {
   "cell_type": "code",
   "execution_count": null,
   "id": "1d3db77a",
   "metadata": {},
   "outputs": [],
   "source": [
    "THE EVEN ELEMENTS ARE\n",
    "42\n",
    "56\n",
    "32\n",
    "THE ODD ELEMENTS ARE\n",
    "25\n",
    "47"
   ]
  },
  {
   "cell_type": "code",
   "execution_count": null,
   "id": "37dca605",
   "metadata": {},
   "outputs": [],
   "source": [
    "Question 5 C#\n",
    "a. Write a function inside(x,y,x1,y1,x2,y2) that returns True or False depending on whether the point (x,y) lies in the rectangle with lower left corner (x1,y1) and upper right corner (x2,y2).\n",
    ">>> inside(1,1,0,0,2,3)\n",
    "True\n",
    ">>> inside(-1,-1,0,0,2,3)\n",
    "False\n",
    "b. Use function inside() from part a. to write an expression that tests whether the point (1,1) lies in both of the following rectangles: one with lower left corner (0.3, 0.5) and upper right corner (1.1, 0.7) and the other with lower left corner (0.5, 0.2) and upper right corner (1.1, 2)."
   ]
  },
  {
   "cell_type": "code",
   "execution_count": null,
   "id": "50ee574c",
   "metadata": {},
   "outputs": [],
   "source": [
    "//a\n",
    "\n",
    "int[] inside1 = { 1, 1, 0, 0, 2, 3 };\n",
    "InsideFunction(inside1);\n",
    "\n",
    "int[] inside2 = { -1, -1, 0, 0, 2, 3 };\n",
    "InsideFunction(inside2);\n",
    "\n",
    "\n",
    "static void InsideFunction(int[] inside)\n",
    "{\n",
    "int a = inside[0];\n",
    "int b = inside[1];\n",
    "int c = inside[2];\n",
    "int d = inside[3];\n",
    "int e = inside[4];\n",
    "int f = inside[5];\n",
    "\n",
    "bool result = IsInside(a, b, c, d, e, f);\n",
    "\n",
    "Console.WriteLine($\">>> inside({a}, {b}, {c}, {d}, {e}, {f})\");\n",
    "Console.WriteLine(result ? \"True\" : \"False\");\n",
    "}\n",
    "\n",
    "static bool IsInside(int x, int y, int x1, int y1, int x2, int y2)\n",
    "{\n",
    "return x1 < x && x < x2 && y1 < y && y < y2;\n",
    "}"
   ]
  },
  {
   "cell_type": "code",
   "execution_count": null,
   "id": "617b81c1",
   "metadata": {},
   "outputs": [],
   "source": [
    ">>> inside(1, 1, 0, 0, 2, 3)\n",
    "True\n",
    ">>> inside(-1, -1, 0, 0, 2, 3)\n",
    "False"
   ]
  },
  {
   "cell_type": "code",
   "execution_count": null,
   "id": "4b7c890f",
   "metadata": {},
   "outputs": [],
   "source": [
    "InsideFunction(1, 1, 0.3, 0.5, 1.1, 0.7);  \n",
    "InsideFunction(1, 1, 0.5, 0.2, 1.1, 2);\n",
    "\n",
    "static void InsideFunction(int x, int y, double x1, double y1, double x2, double y2)\n",
    "{\n",
    "bool result = IsInside(x, y, x1, y1, x2, y2);\n",
    "\n",
    "Console.WriteLine($\">>> inside({x}, {y}, {x1}, {y1}, {x2}, {y2})\");\n",
    "Console.WriteLine(result ? \"True\" : \"False\");\n",
    "}\n",
    "static bool IsInside(int x, int y, double x1, double y1, double x2, double y2)\n",
    "{\n",
    "return x1 < x && x < x2 && y1 < y && y < y2;\n",
    "}"
   ]
  },
  {
   "cell_type": "code",
   "execution_count": null,
   "id": "764c420c",
   "metadata": {},
   "outputs": [],
   "source": [
    ">>> inside(1, 1, 0.3, 0.5, 1.1, 0.7)\n",
    "False\n",
    ">>> inside(1, 1, 0.5, 0.2, 1.1, 2)\n",
    "True"
   ]
  },
  {
   "cell_type": "code",
   "execution_count": null,
   "id": "08e82818",
   "metadata": {},
   "outputs": [],
   "source": [
    "Question 6 Python\n",
    "You can turn a word into pig-Latin using the following two rules (simplified):\n",
    "• If the word starts with a consonant, move that letter to the end and append 'ay'. For example, 'happy' becomes 'appyhay' and 'pencil' becomes 'encilpay'.\n",
    "• If the word starts with a vowel, simply append 'way' to the end of the word. For example, 'enter' becomes 'enterway' and 'other' becomes 'otherway' . For our purposes, there are 5 vowels: a, e, i, o, u (so we count y as a consonant).\n",
    "Write a function pig() that takes a word (i.e., a string) as input and returns its pig- Latin form. Your function should still work if the input word contains upper case characters. Your output should always be lower case however.\n",
    ">>> pig('happy') 'appyhay'\n",
    ">>> pig('Enter') 'enterway'"
   ]
  },
  {
   "cell_type": "code",
   "execution_count": 2,
   "id": "62b51933",
   "metadata": {},
   "outputs": [
    {
     "name": "stdout",
     "output_type": "stream",
     "text": [
      "appyhay\n",
      "enterway\n"
     ]
    }
   ],
   "source": [
    "def pig(str):\n",
    "    str=str.lower()\n",
    "    \n",
    "    vowels = ['a','e','i','o','u']\n",
    "    \n",
    "    if str[0] in vowels:\n",
    "        return str + \"way\"\n",
    "    else:\n",
    "        return str[1:]+str[0]+\"ay\"\n",
    "    \n",
    "print(pig(\"happy\"))\n",
    "print(pig(\"Enter\"))"
   ]
  },
  {
   "cell_type": "code",
   "execution_count": null,
   "id": "4f645af1",
   "metadata": {},
   "outputs": [],
   "source": [
    "Question 7 Python\n",
    "File bloodtype1.txt records blood-types of patients (A, B, AB, O or OO) at a clinic. Write a function bldcount() that reads the file with name name and reports (i.e., prints) how many patients there are in each bloodtype.\n",
    ">>> bldcount('bloodtype.txt')\n",
    "There are 10 patients of blood type A.\n",
    "There is one patient of blood type B. \n",
    "There are 10 patients of blood type AB. \n",
    "There are 12 patients of blood type O. \n",
    "There are no patients of blood type OO."
   ]
  },
  {
   "cell_type": "code",
   "execution_count": 3,
   "id": "f04c4bbd",
   "metadata": {},
   "outputs": [
    {
     "name": "stdout",
     "output_type": "stream",
     "text": [
      ">>> bldcount('bloodtype1.txt'):\n",
      "There are 15 patients of blood type A.\n",
      "There is 1 patient of blood type B.\n",
      "There are 13 patients of blood type AB.\n",
      "There are 15 patients of blood type O.\n",
      "There are 0 patients of blood type OO.\n"
     ]
    }
   ],
   "source": [
    "def bldcount(infile):\n",
    "    with open(infile, 'r') as file:\n",
    "        content = file.read()\n",
    "        blood_types = content.split()\n",
    "\n",
    "        numA = blood_types.count('A')\n",
    "        numB = blood_types.count('B')\n",
    "        numAB = blood_types.count('AB')\n",
    "        numO = blood_types.count('O')\n",
    "        numOO = blood_types.count('OO')\n",
    "\n",
    "        print(f\">>> bldcount('{file.name}'):\")\n",
    "        \n",
    "        if numA == 1:\n",
    "            print(f\"There is 1 patient of blood type A.\")\n",
    "        else:\n",
    "            print(f\"There are {numA} patients of blood type A.\")\n",
    "\n",
    "        if numB == 1:\n",
    "            print(f\"There is 1 patient of blood type B.\")\n",
    "        else:\n",
    "            print(f\"There are {numB} patients of blood type B.\")\n",
    "\n",
    "        if numAB == 1:\n",
    "            print(f\"There is 1 patient of blood type AB.\")\n",
    "        else:\n",
    "            print(f\"There are {numAB} patients of blood type AB.\")\n",
    "\n",
    "        if numO == 1:\n",
    "            print(f\"There is 1 patient of blood type O.\")\n",
    "        else:\n",
    "            print(f\"There are {numO} patients of blood type O.\")\n",
    "\n",
    "        if numOO == 1:\n",
    "            print(f\"There is 1 patient of blood type OO.\")\n",
    "        else:\n",
    "            print(f\"There are {numOO} patients of blood type OO.\")\n",
    "\n",
    "bldcount(\"bloodtype1.txt\")\n"
   ]
  },
  {
   "cell_type": "code",
   "execution_count": null,
   "id": "b27c5802",
   "metadata": {},
   "outputs": [],
   "source": [
    "Question 8 Python\n",
    "Write a function curconv() that takes as input:\n",
    "1. a currency represented using a string (e.g., 'JPY' for the Japanese Yen or 'EUR' for the Euro)\n",
    "2. an amount\n",
    "and then converts and returns the amount in US dollars.\n",
    ">>> curconv('EUR', 100)\n",
    "122.96544\n",
    ">>> curconv('JPY', 100)\n",
    "1.241401\n",
    "The currency rates you will need are stored in file currencies.txt:\n",
    "AUD\n",
    "1.0345157\n",
    "Australian Dollar\n",
    "CHF\n",
    "1.0237414\n",
    "Swiss Franc\n",
    "CNY\n",
    "0.1550176\n",
    "Chinese Yuan\n",
    "DKK\n",
    "0.1651442\n",
    "Danish Krone\n",
    "EUR\n",
    "1.2296544\n",
    "Euro\n",
    "GBP\n",
    "1.5550989\n",
    "British Pound\n",
    "HKD\n",
    "0.1270207\n",
    "Hong Kong Dollar\n",
    "INR\n",
    "0.0177643\n",
    "Indian Rupee\n",
    "JPY\n",
    "0.01241401\n",
    "Japanese Yen\n",
    "MXN\n",
    "0.0751848\n",
    "Mexican Peso\n",
    "MYR\n",
    "0.3145411\n",
    "Malaysian Ringgit\n",
    "NOK\n",
    "0.1677063\n",
    "Norwegian Krone\n",
    "NZD\n",
    "0.8003591\n",
    "New Zealand Dollar\n",
    "PHP\n",
    "0.0233234\n",
    "Philippine Peso\n",
    "SEK\n",
    "0.148269\n",
    "Swedish Krona\n",
    "SGD\n",
    "0.788871\n",
    "Singapore Dollar\n",
    "THB\n",
    "0.0313789\n",
    "Thai Baht"
   ]
  }
 ],
 "metadata": {
  "kernelspec": {
   "display_name": "Python 3 (ipykernel)",
   "language": "python",
   "name": "python3"
  },
  "language_info": {
   "codemirror_mode": {
    "name": "ipython",
    "version": 3
   },
   "file_extension": ".py",
   "mimetype": "text/x-python",
   "name": "python",
   "nbconvert_exporter": "python",
   "pygments_lexer": "ipython3",
   "version": "3.11.4"
  }
 },
 "nbformat": 4,
 "nbformat_minor": 5
}
